{
 "cells": [
  {
   "cell_type": "markdown",
   "metadata": {},
   "source": [
    "# Tracking de objetos por color con CamShift"
   ]
  },
  {
   "cell_type": "code",
   "execution_count": 1,
   "metadata": {},
   "outputs": [
    {
     "name": "stdout",
     "output_type": "stream",
     "text": [
      "Using matplotlib backend: Qt5Agg\n"
     ]
    }
   ],
   "source": [
    "%matplotlib\n",
    "\n",
    "# Importamos las librerías necesarias\n",
    "import numpy as np\n",
    "import cv2 as cv\n",
    "import matplotlib.pyplot as plt"
   ]
  },
  {
   "cell_type": "markdown",
   "metadata": {},
   "source": [
    "## Selección de ROI"
   ]
  },
  {
   "cell_type": "code",
   "execution_count": 12,
   "metadata": {},
   "outputs": [],
   "source": [
    "# Selección de ROI\n",
    "def SelectROI(cap):\n",
    "    global frame\n",
    "    ret, frame = cap.read()\n",
    "    showCrosshair = False\n",
    "    fromCenter = False\n",
    "    r = cv.selectROI(frame, fromCenter, showCrosshair)\n",
    "    roi = frame[int(r[1]):int(r[1]+r[3]),int(r[0]):int(r[0]+r[2])]\n",
    "    cv.imshow(\"Image\", roi)\n",
    "    cv.waitKey(0)\n",
    "    track_window = (r[1], r[0], r[3], r[2])\n",
    "    return roi, track_window\n",
    "\n",
    "cap = cv.VideoCapture(0)\n",
    "roi, track_window = SelectROI(cap)\n"
   ]
  },
  {
   "cell_type": "code",
   "execution_count": 13,
   "metadata": {},
   "outputs": [
    {
     "name": "stdout",
     "output_type": "stream",
     "text": [
      "(191, 252, 186, 140)\n"
     ]
    }
   ],
   "source": [
    "plt.imshow(roi[:, :, ::-1])\n",
    "plt.imshow(frame[:, :, ::-1])\n",
    "plt.show()\n",
    "print(track_window)"
   ]
  },
  {
   "cell_type": "markdown",
   "metadata": {},
   "source": [
    "## Selección HSV"
   ]
  },
  {
   "cell_type": "code",
   "execution_count": 14,
   "metadata": {},
   "outputs": [],
   "source": [
    "def nothing(x):\n",
    "    pass\n",
    "\n",
    "cv.namedWindow(\"Tracking\")\n",
    "cv.createTrackbar(\"LH\", \"Tracking\", 0, 255, nothing)\n",
    "cv.createTrackbar(\"LS\", \"Tracking\", 0, 255, nothing)\n",
    "cv.createTrackbar(\"LV\", \"Tracking\", 0, 255, nothing)\n",
    "cv.createTrackbar(\"UH\", \"Tracking\", 255, 255, nothing)\n",
    "cv.createTrackbar(\"US\", \"Tracking\", 255, 255, nothing)\n",
    "cv.createTrackbar(\"UV\", \"Tracking\", 255, 255, nothing)\n",
    "\n",
    "while True:\n",
    "    \n",
    "    \n",
    "    hsv = cv.cvtColor(frame, cv.COLOR_BGR2HSV)\n",
    "\n",
    "    l_h = cv.getTrackbarPos(\"LH\", \"Tracking\")\n",
    "    l_s = cv.getTrackbarPos(\"LS\", \"Tracking\")\n",
    "    l_v = cv.getTrackbarPos(\"LV\", \"Tracking\")\n",
    "\n",
    "    u_h = cv.getTrackbarPos(\"UH\", \"Tracking\")\n",
    "    u_s = cv.getTrackbarPos(\"US\", \"Tracking\")\n",
    "    u_v = cv.getTrackbarPos(\"UV\", \"Tracking\")\n",
    "\n",
    "    l_b = np.array([l_h, l_s, l_v])\n",
    "    u_b = np.array([u_h, u_s, u_v])\n",
    "\n",
    "    mask = cv.inRange(hsv, l_b, u_b)\n",
    "\n",
    "    res = cv.bitwise_and(frame, frame, mask=mask)\n",
    "\n",
    "    cv.imshow(\"frame\", frame)\n",
    "    cv.imshow(\"mask\", mask)\n",
    "    cv.imshow(\"res\", res)\n",
    "\n",
    "    key = cv.waitKey(1)\n",
    "    if key == 27:\n",
    "        break\n",
    "\n",
    "cv.destroyAllWindows()"
   ]
  },
  {
   "cell_type": "markdown",
   "metadata": {},
   "source": [
    "## Espacio HSV e Histograma"
   ]
  },
  {
   "cell_type": "code",
   "execution_count": 15,
   "metadata": {},
   "outputs": [],
   "source": [
    "# Conversión de color a HSV de la ROI\n",
    "hsv_roi =  cv.cvtColor(roi, cv.COLOR_BGR2HSV)\n",
    "# Definimos una máscara para el histograma con los valores seleccionados arriba\n",
    "mask = cv.inRange(hsv_roi, l_b, u_b)\n",
    "# Y calculamos el histograma sobre esa máscara (toma solo el Hue: tonalidad)\n",
    "roi_hist = cv.calcHist([hsv_roi],[0],mask,[180],[0,180])\n",
    "# Normalizamos el histograma (entre 0 y 255 según indica el flag cv.NORM_MINMAX)\n",
    "cv.normalize(roi_hist,roi_hist,0,255,cv.NORM_MINMAX);"
   ]
  },
  {
   "cell_type": "markdown",
   "metadata": {},
   "source": [
    "## Tracking"
   ]
  },
  {
   "cell_type": "code",
   "execution_count": 20,
   "metadata": {},
   "outputs": [],
   "source": [
    "# Condición de terminación: 10 iteraciones o moverse al menos 1pt\n",
    "#----------------------------------------------------------------\n",
    "term_crit = ( cv.TERM_CRITERIA_EPS | cv.TERM_CRITERIA_COUNT, 1, 10 )\n",
    "\n",
    "while(1):\n",
    "    ret, frame = cap.read()\n",
    "    if ret == True:\n",
    "        hsv = cv.cvtColor(frame, cv.COLOR_BGR2HSV)\n",
    "        dst = cv.calcBackProject([hsv],[0],roi_hist,[0,180],1)\n",
    "        \n",
    "        # Aplicamos camshift al nuevo frame\n",
    "        #----------------------------------\n",
    "        ret, track_window = cv.CamShift(dst, track_window, term_crit)\n",
    "        \n",
    "        # Dibujamos la ventana sobre la imagen\n",
    "        #=====================================\n",
    "        \n",
    "        # Con escalamiento de ventana - Sin rotación\n",
    "        #-------------------------------------------\n",
    "        x,y,w,h = track_window\n",
    "        img2 = cv.rectangle(frame, (x,y), (x+w,y+h), 255,2)\n",
    "        \n",
    "        cv.imshow('Seguimiento',img2)\n",
    "        \n",
    "        k = cv.waitKey(30) & 0xff\n",
    "        if k == 27:\n",
    "            break\n",
    "    else:\n",
    "        break\n",
    "cv.destroyAllWindows()\n",
    "cap.release()"
   ]
  },
  {
   "cell_type": "code",
   "execution_count": 19,
   "metadata": {},
   "outputs": [],
   "source": [
    "cap = cv.VideoCapture(0)"
   ]
  }
 ],
 "metadata": {
  "kernelspec": {
   "display_name": "Python 3",
   "language": "python",
   "name": "python3"
  },
  "language_info": {
   "codemirror_mode": {
    "name": "ipython",
    "version": 3
   },
   "file_extension": ".py",
   "mimetype": "text/x-python",
   "name": "python",
   "nbconvert_exporter": "python",
   "pygments_lexer": "ipython3",
   "version": "3.8.3"
  }
 },
 "nbformat": 4,
 "nbformat_minor": 4
}
