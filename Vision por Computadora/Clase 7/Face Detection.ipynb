{
 "cells": [
  {
   "cell_type": "markdown",
   "metadata": {},
   "source": [
    "# Detección de Caras con Haar"
   ]
  },
  {
   "cell_type": "code",
   "execution_count": 8,
   "metadata": {},
   "outputs": [
    {
     "name": "stdout",
     "output_type": "stream",
     "text": [
      "Using matplotlib backend: Qt5Agg\n"
     ]
    }
   ],
   "source": [
    "%matplotlib\n",
    "\n",
    "# Importamos las librerías necesarias\n",
    "import numpy as np\n",
    "import cv2 as cv\n",
    "import matplotlib.pyplot as plt\n",
    "import time\n"
   ]
  },
  {
   "cell_type": "code",
   "execution_count": 3,
   "metadata": {},
   "outputs": [],
   "source": [
    "# Leemos los clasificadores pre-entrenados (buscar dentro del path de anaconda, colocar barras dobles)\n",
    "#--------------------------------------------------------------------------------\n",
    "face_cascade = cv.CascadeClassifier('C:\\\\Users\\\\Lautaro\\\\anaconda3\\\\pkgs\\\\libopencv-4.0.1-hbb9e17c_0\\\\Library\\\\etc\\\\haarcascades\\\\haarcascade_frontalface_default.xml')\n",
    "eye_cascade = cv.CascadeClassifier('C:\\\\Users\\Lautaro\\\\anaconda3\\\\pkgs\\\\libopencv-4.0.1-hbb9e17c_0\\\\Library\\\\etc\\\\haarcascades\\\\haarcascade_eye.xml')\n",
    "smile_cascade = cv.CascadeClassifier('C:\\\\Users\\\\Lautaro\\\\anaconda3\\\\pkgs\\\\libopencv-4.0.1-hbb9e17c_0\\\\Library\\\\etc\\\\haarcascades\\\\haarcascade_smile.xml')\n"
   ]
  },
  {
   "cell_type": "code",
   "execution_count": 11,
   "metadata": {},
   "outputs": [],
   "source": [
    "# Selección de ROI\n",
    "def SelectROI(cap):\n",
    "    global frame\n",
    "    ret, frame = cap.read()\n",
    "    showCrosshair = False\n",
    "    fromCenter = False\n",
    "    r = cv.selectROI(frame, fromCenter, showCrosshair)\n",
    "    roi = frame[int(r[1]):int(r[1]+r[3]),int(r[0]):int(r[0]+r[2])]\n",
    "    cv.imshow(\"Image\", roi)\n",
    "    cv.waitKey(0)\n",
    "    track_window = (r[1], r[0], r[3], r[2])\n",
    "    return roi, track_window\n",
    "\n",
    "cap = cv.VideoCapture(0)\n",
    "roi_face, track_window_face = SelectROI(cap)\n",
    "roi_eye, track_window_eye = SelectROI(cap)\n",
    "roi_smile, track_window_smile = SelectROI(cap)"
   ]
  },
  {
   "cell_type": "code",
   "execution_count": 12,
   "metadata": {},
   "outputs": [
    {
     "name": "stdout",
     "output_type": "stream",
     "text": [
      "(212, 251, 197, 179)\n",
      "(272, 311, 38, 36)\n",
      "(344, 321, 40, 77)\n"
     ]
    }
   ],
   "source": [
    "print(track_window_face)\n",
    "print(track_window_eye)\n",
    "print(track_window_smile)"
   ]
  },
  {
   "cell_type": "code",
   "execution_count": 22,
   "metadata": {},
   "outputs": [],
   "source": [
    "cap = cv.VideoCapture(0)\n",
    "while(1):\n",
    "    ret, frame = cap.read()\n",
    "    if ret == True:\n",
    "        grayImage = cv.cvtColor(frame, cv.COLOR_BGR2GRAY)\n",
    "        grayImage = cv.equalizeHist(grayImage)\n",
    "        # Llamamos al clasificador de Haar (AdaBoost)\n",
    "        #--------------------------------------------\n",
    "        faces = face_cascade.detectMultiScale(grayImage, 1.01, 10, minSize=(180, 160), maxSize=(210, 190))\n",
    "        #, minSize= (100,130),maxSize=(200,400))\n",
    "\n",
    "        # Recorro las caras encontradas\n",
    "        #------------------------------\n",
    "        for (x,y,w,h) in faces:\n",
    "            # Le dibujamos un rectángulo celeste\n",
    "            cv.rectangle(frame,(x,y),(x+w,y+h),(255,255,0),2)\n",
    "            # Definimos las ROIs en la imagen gris y color\n",
    "            roi_gray = grayImage[y:y+h, x:x+w] \n",
    "            roi_color = frame[y:y+h, x:x+w]\n",
    "            # Dibujamos la sonrisa con cuadrado rojo\n",
    "            smile = smile_cascade.detectMultiScale(roi_gray, 1.01, 2,  minSize=(20, 50), maxSize=(150, 150))\n",
    "            for j, (sx, sy, sw, sh) in enumerate(smile):\n",
    "                if j>1:\n",
    "                    break;\n",
    "                cv.rectangle(roi_color,(sx,sy),(sx+sw,sy+sh),(0,0,255),2)\n",
    "            # Para cada rostro hallado le buscamos los ojos\n",
    "            eyes = eye_cascade.detectMultiScale(roi_gray, minSize=(30, 30), maxSize=(50, 50))\n",
    "            # En los ojos hallados les dibujamos rectángulos\n",
    "            for i, (ex,ey,ew,eh) in enumerate(eyes):\n",
    "                if i>1:\n",
    "                    break;\n",
    "                cv.rectangle(roi_color,(ex,ey),(ex+ew,ey+eh),(0,255,0),2)\n",
    "                \n",
    "        cv.imshow('Seguimiento',frame)\n",
    "        time.sleep(0.01)\n",
    "        k = cv.waitKey(30) & 0xff\n",
    "        if k == 27:\n",
    "            break\n",
    "    else:\n",
    "        break\n",
    "cv.destroyAllWindows()\n",
    "cap.release()"
   ]
  }
 ],
 "metadata": {
  "kernelspec": {
   "display_name": "Python 3",
   "language": "python",
   "name": "python3"
  },
  "language_info": {
   "codemirror_mode": {
    "name": "ipython",
    "version": 3
   },
   "file_extension": ".py",
   "mimetype": "text/x-python",
   "name": "python",
   "nbconvert_exporter": "python",
   "pygments_lexer": "ipython3",
   "version": "3.8.3"
  }
 },
 "nbformat": 4,
 "nbformat_minor": 4
}
