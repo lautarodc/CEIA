{
 "cells": [
  {
   "cell_type": "markdown",
   "metadata": {},
   "source": [
    "# Non vectorized XOR Neural Network"
   ]
  },
  {
   "cell_type": "code",
   "execution_count": 41,
   "metadata": {},
   "outputs": [],
   "source": [
    "%matplotlib inline\n",
    "\n",
    "import numpy as np\n",
    "import matplotlib.pyplot as plt\n"
   ]
  },
  {
   "cell_type": "code",
   "execution_count": 3,
   "metadata": {},
   "outputs": [],
   "source": [
    "class BaseModel(object):\n",
    "    def __init__(self):\n",
    "        self.model = None\n",
    "\n",
    "    def fit(self, x, y):\n",
    "        return NotImplemented\n",
    "\n",
    "    def predict(self, x):\n",
    "        return NotImplemented"
   ]
  },
  {
   "cell_type": "code",
   "execution_count": 48,
   "metadata": {},
   "outputs": [],
   "source": [
    "class NNXor(BaseModel):\n",
    "    def sigmoid(self, x):\n",
    "        return 1 / (1 + np.exp(-x))\n",
    "    \n",
    "    def fit(self, x_train, y_train, lr=0.05, amt_epochs=3000):\n",
    "        epoch_loss = []\n",
    "        epoch_count = []\n",
    "        w_out = np.random.uniform(0, 0.01, (2, 1))\n",
    "        b_out = np.random.uniform(0, 0.01, 1)\n",
    "        w_hidden = np.random.uniform(0, 0.01, (2, 2))\n",
    "        b_hidden = np.random.uniform(0, 0.01, (2, 1))\n",
    "        for i in range(amt_epochs):\n",
    "            idx = np.random.permutation(x_train.shape[0])\n",
    "            x = x_train[idx, :]\n",
    "            y = y_train[idx, :]\n",
    "            for k in range(4):\n",
    "                # Feedforward\n",
    "                z1 = x[k, 0] * w_hidden[0, 0] + x[k, 1] * w_hidden[0, 1] + b_hidden[0, 0]\n",
    "                z2 = x[k, 0] * w_hidden[1, 0] + x[k, 1] * w_hidden[1, 1] + b_hidden[1, 0]\n",
    "                a1 = self.sigmoid(z1)\n",
    "                a2 = self.sigmoid(z2)\n",
    "                prediction = a1 * w_out[0, 0] + a2 * w_out[1, 0] + b_out\n",
    "                error = (y[k, 0]-prediction)\n",
    "                \n",
    "                # Backprop\n",
    "                w_out[0, 0] = w_out[0, 0] - lr * (-2) * error * a1\n",
    "                w_out[1, 0] = w_out[1, 0] - lr * (-2) * error * a2\n",
    "                b_out = b_out - lr * (-2) * error\n",
    "                w_hidden[0, 0] = w_hidden[0, 0] - lr * (-2) * error * w_out[0, 0] * a1 * (1 - a1) * x[k, 0] \n",
    "                w_hidden[0, 1] = w_hidden[0, 1] - lr * (-2) * error * w_out[0, 0] * a1 * (1 - a1) * x[k, 1]\n",
    "                w_hidden[1, 0] = w_hidden[1, 0] - lr * (-2) * error * w_out[1, 0] * a2 * (1 - a2) * x[k, 0]\n",
    "                w_hidden[1, 1] = w_hidden[1, 1] - lr * (-2) * error * w_out[1, 0] * a2 * (1 - a2) * x[k, 1]\n",
    "            epoch_count.append(i)\n",
    "            epoch_loss.append(error**2)\n",
    "        self.model = [w_out, b_out, w_hidden, b_hidden]\n",
    "        return epoch_count, epoch_loss\n",
    "    \n",
    "    def predict(self, x):\n",
    "        x = x.reshape(-1, 2)\n",
    "        z1 = x[0, 0] * self.model[2][0, 0] + x[0, 1] * self.model[2][0, 1] + self.model[3][0, 0]\n",
    "        z2 = x[0, 0] * self.model[2][1, 0] + x[0, 1] * self.model[2][1, 1] + self.model[3][1, 0]\n",
    "        a1 = self.sigmoid(z1)\n",
    "        a2 = self.sigmoid(z2)\n",
    "        y = a1 * self.model[0][0, 0] + a2 * self.model[0][1, 0] + self.model[1]\n",
    "        return y\n",
    "    "
   ]
  },
  {
   "cell_type": "code",
   "execution_count": 49,
   "metadata": {},
   "outputs": [
    {
     "name": "stdout",
     "output_type": "stream",
     "text": [
      "[[0 0]\n",
      " [0 1]\n",
      " [1 0]\n",
      " [1 1]]\n",
      "[[0]\n",
      " [1]\n",
      " [1]\n",
      " [0]]\n",
      "[1] [1.00007227]\n"
     ]
    },
    {
     "data": {
      "image/png": "[encoded data removed]",
      "text/plain": [
       "<Figure size 432x288 with 1 Axes>"
      ]
     },
     "metadata": {
      "needs_background": "light"
     },
     "output_type": "display_data"
    }
   ],
   "source": [
    "if __name__ == '__main__':\n",
    "    x = np.array([[0, 0], [0, 1], [1, 0], [1, 1]])\n",
    "    print(x)\n",
    "    y = np.array([0, 1, 1, 0])\n",
    "    y = y.reshape(-1, 1)\n",
    "    print(y)\n",
    "    NN = NNXor()\n",
    "    epoch_count, epoch_loss = NN.fit(x, y, 0.1, 3000)\n",
    "    y_predicted = NN.predict(x[1, :])\n",
    "    print(y[1, :], y_predicted)\n",
    "    \n",
    "    plt.figure(1)\n",
    "    plt.title(\"Loss vs epoch\")\n",
    "    plt.plot(epoch_count, epoch_loss)\n",
    "    plt.show()"
   ]
  }
 ],
 "metadata": {
  "kernelspec": {
   "display_name": "Python 3",
   "language": "python",
   "name": "python3"
  },
  "language_info": {
   "codemirror_mode": {
    "name": "ipython",
    "version": 3
   },
   "file_extension": ".py",
   "mimetype": "text/x-python",
   "name": "python",
   "nbconvert_exporter": "python",
   "pygments_lexer": "ipython3",
   "version": "3.7.6"
  }
 },
 "nbformat": 4,
 "nbformat_minor": 4
}
